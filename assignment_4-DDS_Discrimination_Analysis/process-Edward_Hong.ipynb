{
 "cells": [
  {
   "cell_type": "markdown",
   "metadata": {},
   "source": [
    "### Algorithms Assignment 4 - DDS Discrimination Analysis\n",
    "_Yuanqi (Edward) Hong_  \n",
    "Columbia University, Spring 2019"
   ]
  },
  {
   "cell_type": "markdown",
   "metadata": {},
   "source": [
    "**Summary**\n",
    "- **Data**: A sample of 1000 DDS \"consumers.\" Variables mainly include `Age`, `Gender`, `Expenditures`, and `Ethnicity`.\n",
    "- **Analysis goal**: Answer the question \"Is there ethnicity-based discrimination in the distribution of DDS's expenditures? i.e. Is there at least one ethnicity group that's systematically getting lower or higher funds than others?\" Sidenote: We're asked to analyze for discrimination against any group, but I decided to narrow down to ethnicity-based discrimination. Nevertheless, `Gender`- and `Age`-based discrimination are accounted for in the analysis.\n",
    "- **Method**: Mainly linear regression.\n",
    "- **Dependent variable**: `Expenditures`. This variable describes how much money a certain consumer get. We're interested in how this number is or is not affected by some characteristics of the individual, especially his or her ethnicity.\n",
    "- **Independent variables**: `Age`, `Gender`, and `Ethnicity`. We're particularly interested in `Ethnicity`. `Age` and `Gender` could be considered as control variables.\n",
    "- **Conclusion**: Age explains a lot of the differences in how much expenditures a consumer is getting. No gender-based discrimination is evident. No ethnicity-based discrimination is evident _overall_, but something seems to be going on between `White not Hispanic` and `Hispanic`, which merits further analyses. Our data do not include the type of developmental disabilities so we couldn't control for that in the analysis, and this seems to be an important factor in the decision process of the level of `Expenditures`, so again, more data / analysis is needed."
   ]
  },
  {
   "cell_type": "code",
   "execution_count": 1,
   "metadata": {},
   "outputs": [],
   "source": [
    "# imports\n",
    "import pandas as pd\n",
    "import statsmodels.formula.api as smf\n",
    "import matplotlib.pyplot as plt\n",
    "import matplotlib.style as style\n",
    "\n",
    "# set the style of plots\n",
    "style.use('seaborn')"
   ]
  },
  {
   "cell_type": "code",
   "execution_count": 2,
   "metadata": {},
   "outputs": [
    {
     "data": {
      "text/html": [
       "<div>\n",
       "<style scoped>\n",
       "    .dataframe tbody tr th:only-of-type {\n",
       "        vertical-align: middle;\n",
       "    }\n",
       "\n",
       "    .dataframe tbody tr th {\n",
       "        vertical-align: top;\n",
       "    }\n",
       "\n",
       "    .dataframe thead th {\n",
       "        text-align: right;\n",
       "    }\n",
       "</style>\n",
       "<table border=\"1\" class=\"dataframe\">\n",
       "  <thead>\n",
       "    <tr style=\"text-align: right;\">\n",
       "      <th></th>\n",
       "      <th>ID</th>\n",
       "      <th>Age_Cohort</th>\n",
       "      <th>Age</th>\n",
       "      <th>Gender</th>\n",
       "      <th>Expenditures</th>\n",
       "      <th>Ethnicity</th>\n",
       "    </tr>\n",
       "  </thead>\n",
       "  <tbody>\n",
       "    <tr>\n",
       "      <th>0</th>\n",
       "      <td>10210</td>\n",
       "      <td>13-17</td>\n",
       "      <td>17</td>\n",
       "      <td>Female</td>\n",
       "      <td>2113</td>\n",
       "      <td>White not Hispanic</td>\n",
       "    </tr>\n",
       "    <tr>\n",
       "      <th>1</th>\n",
       "      <td>10409</td>\n",
       "      <td>22-50</td>\n",
       "      <td>37</td>\n",
       "      <td>Male</td>\n",
       "      <td>41924</td>\n",
       "      <td>White not Hispanic</td>\n",
       "    </tr>\n",
       "    <tr>\n",
       "      <th>2</th>\n",
       "      <td>10486</td>\n",
       "      <td>0 - 5</td>\n",
       "      <td>3</td>\n",
       "      <td>Male</td>\n",
       "      <td>1454</td>\n",
       "      <td>Hispanic</td>\n",
       "    </tr>\n",
       "    <tr>\n",
       "      <th>3</th>\n",
       "      <td>10538</td>\n",
       "      <td>18-21</td>\n",
       "      <td>19</td>\n",
       "      <td>Female</td>\n",
       "      <td>6400</td>\n",
       "      <td>Hispanic</td>\n",
       "    </tr>\n",
       "    <tr>\n",
       "      <th>4</th>\n",
       "      <td>10568</td>\n",
       "      <td>13-17</td>\n",
       "      <td>13</td>\n",
       "      <td>Male</td>\n",
       "      <td>4412</td>\n",
       "      <td>White not Hispanic</td>\n",
       "    </tr>\n",
       "  </tbody>\n",
       "</table>\n",
       "</div>"
      ],
      "text/plain": [
       "     ID  Age_Cohort  Age  Gender  Expenditures           Ethnicity\n",
       "0  10210      13-17   17  Female          2113  White not Hispanic\n",
       "1  10409      22-50   37    Male         41924  White not Hispanic\n",
       "2  10486      0 - 5    3    Male          1454            Hispanic\n",
       "3  10538      18-21   19  Female          6400            Hispanic\n",
       "4  10568      13-17   13    Male          4412  White not Hispanic"
      ]
     },
     "execution_count": 2,
     "metadata": {},
     "output_type": "execute_result"
    }
   ],
   "source": [
    "# load the data into a pandas dataframe and check out the first few rows\n",
    "df = pd.read_csv('dds_data.csv')\n",
    "df.head()"
   ]
  },
  {
   "cell_type": "code",
   "execution_count": 3,
   "metadata": {
    "scrolled": true
   },
   "outputs": [
    {
     "data": {
      "image/png": "[encoded data removed]",
      "text/plain": [
       "<Figure size 432x288 with 1 Axes>"
      ]
     },
     "metadata": {
      "needs_background": "light"
     },
     "output_type": "display_data"
    }
   ],
   "source": [
    "# plot a histogram on the expenditures to get a quick look of the data\n",
    "df.Expenditures.hist(bins=30)\n",
    "plt.show()"
   ]
  },
  {
   "cell_type": "markdown",
   "metadata": {},
   "source": [
    "From the above histogram, we can see that the expenditures aren't normally distributed. The histogram has a peak at low levels (<10000), indicating the fact that a large number of consumers don't get amounts bigger than 10000; a second minor peak appears at around 40000, which is part of what seems to be a normally distributed subset of the expenditures (above 20000). The most interesting point here is probably the gap from around 20000 to 25000. Why the gap?\n",
    "\n",
    "Keeping that in mind, I plotted a histogram for `Age`."
   ]
  },
  {
   "cell_type": "code",
   "execution_count": 4,
   "metadata": {
    "scrolled": true
   },
   "outputs": [
    {
     "data": {
      "image/png": "[encoded data removed]",
      "text/plain": [
       "<Figure size 432x288 with 1 Axes>"
      ]
     },
     "metadata": {
      "needs_background": "light"
     },
     "output_type": "display_data"
    }
   ],
   "source": [
    "df.Age.hist(bins=30)\n",
    "plt.show()"
   ]
  },
  {
   "cell_type": "markdown",
   "metadata": {},
   "source": [
    "The shape looks suspiciously familiar (to what we've seen in the `Expenditures` histogram). Let's go ahead and plot `Expenditures` against `Age`."
   ]
  },
  {
   "cell_type": "code",
   "execution_count": 5,
   "metadata": {},
   "outputs": [
    {
     "data": {
      "image/png": "[encoded data removed]",
      "text/plain": [
       "<Figure size 720x504 with 1 Axes>"
      ]
     },
     "metadata": {
      "needs_background": "light"
     },
     "output_type": "display_data"
    }
   ],
   "source": [
    "plt.figure(figsize=(10, 7)) # sets the figure size\n",
    "plt.scatter(df['Age'], df['Expenditures'], s=10) # the 's' parameter sets the marker size\n",
    "plt.show()"
   ]
  },
  {
   "cell_type": "markdown",
   "metadata": {},
   "source": [
    "This is one of those **_Aha_** moments. The upper trend and the **leap** in the scatterplot indicate that `Age` might be quite powerful in explaining how much money an individual gets. This phenomenon is worth pondering upon. One could be tempted to frame this in an age-based discrimination lens, but the leap here is too abrupt for such viewpoints to be compelling. I'm inclined to think that this is due to some regulatory or other kinds of reasons. The following figure from the DDS fact book gives further information.\n",
    "\n",
    "<img src='avg-exp-disabilities-age.png' width=700>\n",
    "\n",
    "From the above figure, we could see that:\n",
    "- The average per capita expenditures increase with age. This reminds us that in later regressions, `Age` should definitely be included as control variable.\n",
    "- Average expenditures vary systematically from one type of developmental disability to another, especially in older age cohorts. This reminds us that with the data we have, which don't include a variable specifying the type of disability, any conclusion reached should be taken with a pinch of salt, since the type of disability isn't controlled for."
   ]
  },
  {
   "cell_type": "code",
   "execution_count": 6,
   "metadata": {},
   "outputs": [
    {
     "data": {
      "text/plain": [
       "22-50     226\n",
       "13-17     212\n",
       "18-21     199\n",
       "6-12      175\n",
       " 51 +     106\n",
       " 0 - 5     82\n",
       "Name: Age_Cohort, dtype: int64"
      ]
     },
     "execution_count": 6,
     "metadata": {},
     "output_type": "execute_result"
    }
   ],
   "source": [
    "# *going off of that, we take a quick look at the age cohorts\n",
    "df['Age_Cohort'].value_counts()"
   ]
  },
  {
   "cell_type": "code",
   "execution_count": 7,
   "metadata": {
    "scrolled": true
   },
   "outputs": [
    {
     "data": {
      "text/plain": [
       "White not Hispanic    401\n",
       "Hispanic              376\n",
       "Asian                 129\n",
       "Black                  59\n",
       "Multi Race             26\n",
       "American Indian         4\n",
       "Native Hawaiian         3\n",
       "Other                   2\n",
       "Name: Ethnicity, dtype: int64"
      ]
     },
     "execution_count": 7,
     "metadata": {},
     "output_type": "execute_result"
    }
   ],
   "source": [
    "# use value_counts() on the interested independent variable to get a sense of the distribution of ethnicities\n",
    "df['Ethnicity'].value_counts()"
   ]
  },
  {
   "cell_type": "markdown",
   "metadata": {},
   "source": [
    "Notice that `Multi Race`, `American Indian`, `Native Hawaiian`, and `Other` all have less than 30 observations."
   ]
  },
  {
   "cell_type": "code",
   "execution_count": 8,
   "metadata": {},
   "outputs": [
    {
     "data": {
      "text/plain": [
       "Ethnicity\n",
       "Native Hawaiian       42782.333333\n",
       "American Indian       36438.250000\n",
       "White not Hispanic    24697.548628\n",
       "Black                 20884.593220\n",
       "Asian                 18392.372093\n",
       "Hispanic              11065.569149\n",
       "Multi Race             4456.730769\n",
       "Other                  3316.500000\n",
       "Name: Expenditures, dtype: float64"
      ]
     },
     "execution_count": 8,
     "metadata": {},
     "output_type": "execute_result"
    }
   ],
   "source": [
    "# group the data by ethnicity and take the mean of expenditures in each group\n",
    "# sort the results in descending order\n",
    "df.groupby(['Ethnicity'])['Expenditures'].mean().sort_values(ascending=False)"
   ]
  },
  {
   "cell_type": "code",
   "execution_count": 9,
   "metadata": {
    "scrolled": true
   },
   "outputs": [
    {
     "data": {
      "text/plain": [
       "Ethnicity\n",
       "American Indian       41817.5\n",
       "Native Hawaiian       40727.0\n",
       "White not Hispanic    15718.0\n",
       "Asian                  9369.0\n",
       "Black                  8687.0\n",
       "Hispanic               3952.0\n",
       "Other                  3316.5\n",
       "Multi Race             2622.0\n",
       "Name: Expenditures, dtype: float64"
      ]
     },
     "execution_count": 9,
     "metadata": {},
     "output_type": "execute_result"
    }
   ],
   "source": [
    "# do the same thing but this time compute median instead of mean\n",
    "df.groupby(['Ethnicity'])['Expenditures'].median().sort_values(ascending=False)"
   ]
  },
  {
   "cell_type": "markdown",
   "metadata": {},
   "source": [
    "Native Hawaiians have the highest average expenditures, American Indians have the highest median, but there're only 3 and 4 people in these groups, respectively. If we ignore groups with less than 30 records, we see that white-not-hispanics have both the highest mean and median expenditures.\n",
    "\n",
    "Another way to look at this would be to first break down the sample into those who receive 20000 or less, and those who get more than 20000, and see the percentage of each ethnicity in those two group respectively."
   ]
  },
  {
   "cell_type": "code",
   "execution_count": 10,
   "metadata": {},
   "outputs": [],
   "source": [
    "# before moving on, go ahead and exclude the ethnicities groups with fewer than 30 observations\n",
    "df = df[(df.Ethnicity != 'Multi Race') &\n",
    "        (df.Ethnicity != 'American Indian') &\n",
    "        (df.Ethnicity != 'Native Hawaiian') &\n",
    "        (df.Ethnicity != 'Other')]"
   ]
  },
  {
   "cell_type": "code",
   "execution_count": 11,
   "metadata": {},
   "outputs": [
    {
     "data": {
      "text/plain": [
       "Hispanic              0.493750\n",
       "White not Hispanic    0.315625\n",
       "Asian                 0.135937\n",
       "Black                 0.054688\n",
       "Name: Ethnicity, dtype: float64"
      ]
     },
     "execution_count": 11,
     "metadata": {},
     "output_type": "execute_result"
    }
   ],
   "source": [
    "# look at ethnicity breakdown for the group receiving 20000 or less\n",
    "df[df['Expenditures']<=20000]['Ethnicity'].value_counts(normalize=True)"
   ]
  },
  {
   "cell_type": "code",
   "execution_count": 12,
   "metadata": {},
   "outputs": [
    {
     "data": {
      "text/plain": [
       "White not Hispanic    0.612308\n",
       "Hispanic              0.184615\n",
       "Asian                 0.129231\n",
       "Black                 0.073846\n",
       "Name: Ethnicity, dtype: float64"
      ]
     },
     "execution_count": 12,
     "metadata": {},
     "output_type": "execute_result"
    }
   ],
   "source": [
    "# look at ethnicity breakdown for the group receiving more than 20000\n",
    "df[df['Expenditures']>20000]['Ethnicity'].value_counts(normalize=True)"
   ]
  },
  {
   "cell_type": "markdown",
   "metadata": {},
   "source": [
    "We can see that `Hispanic` and `White not Hispanic` swap places in the two subgroups, while `Asian` and `Black` remain their relative ranking order. This information is useful for later regression analysis."
   ]
  },
  {
   "cell_type": "markdown",
   "metadata": {},
   "source": [
    "To dig a little deeper into this, I first break the data down into two groups, one containing people aged 21 or less, the other containing the rest. The idea of this breakdown comes from the leap we observed earlier when we plotted `Expenditures` against `Age`. Given the obvious correlation between `Age` and `Expenditures`, this might seem a bit redundant, but actually we're looking at the data from two different perspectives, so it's worth the effort."
   ]
  },
  {
   "cell_type": "code",
   "execution_count": 13,
   "metadata": {},
   "outputs": [],
   "source": [
    "# break the data into two large age groups\n",
    "# for simplicity, just for simplicity, I call these 'young' and 'old'\n",
    "young = df[df.Age <= 21]\n",
    "old = df[df.Age > 21]"
   ]
  },
  {
   "cell_type": "code",
   "execution_count": 14,
   "metadata": {},
   "outputs": [
    {
     "data": {
      "text/plain": [
       "Hispanic              0.493750\n",
       "White not Hispanic    0.315625\n",
       "Asian                 0.135937\n",
       "Black                 0.054688\n",
       "Name: Ethnicity, dtype: float64"
      ]
     },
     "execution_count": 14,
     "metadata": {},
     "output_type": "execute_result"
    }
   ],
   "source": [
    "# for the 'young' group, look at the ethnicity breakdown\n",
    "young['Ethnicity'].value_counts(normalize=True)"
   ]
  },
  {
   "cell_type": "code",
   "execution_count": 15,
   "metadata": {},
   "outputs": [
    {
     "data": {
      "text/plain": [
       "0"
      ]
     },
     "execution_count": 15,
     "metadata": {},
     "output_type": "execute_result"
    }
   ],
   "source": [
    "# just to make sure, I check for the number of people who are in the 'young' group and also getting more than 20000\n",
    "# turns out there's none, which is consistent with earlier observations\n",
    "len(young[young['Expenditures']>20000]['Ethnicity'].value_counts(normalize=True))"
   ]
  },
  {
   "cell_type": "code",
   "execution_count": 16,
   "metadata": {},
   "outputs": [
    {
     "data": {
      "text/plain": [
       "White not Hispanic    0.612308\n",
       "Hispanic              0.184615\n",
       "Asian                 0.129231\n",
       "Black                 0.073846\n",
       "Name: Ethnicity, dtype: float64"
      ]
     },
     "execution_count": 16,
     "metadata": {},
     "output_type": "execute_result"
    }
   ],
   "source": [
    "# now we look at the 'old' group's ethnicity breakdown\n",
    "old['Ethnicity'].value_counts(normalize=True)"
   ]
  },
  {
   "cell_type": "markdown",
   "metadata": {},
   "source": [
    "These results are similar to what we got when we broke down the data using the 20000 line."
   ]
  },
  {
   "cell_type": "markdown",
   "metadata": {},
   "source": [
    "After the above exploratory analysis, we move on to regressions.\n",
    "\n",
    "We start off with the following model specification:\n",
    "\n",
    "$$\\hat{Expenditures} = a + b_{1}Age + b_{2}Male + b_{3}Asian + b_{4}Black + b_{5}Hispanic + e$$\n",
    "\n",
    "I created dummies (or rather, `StatsModels` generates them automatically) for `Gender` and for `Ethnicity`. `StatsModels` drops a dummy for each of these two to avoid [multicollinearity](https://en.wikipedia.org/wiki/Multicollinearity). Normally we don't care which one it drops, but in this case, I specifically tell it to drop `White not Hispanic` among the `Ethnicity` dummies. Recall from earlier analysis that `White not Hispanic` seems to be consistently showing up as the group that gets higher expenditures, we want this group to be our baseline in the regression. I use HC1 type covariance for this model.\n",
    "\n",
    "_Before I decided to use this model specification, I tried to create a dummy just for the `White not Hispanic` group by giving people in this group `1`s and the rest `0`s. Running a regression using this grouping method, however, resulted in something with an adjusted R-squared of 0.077. So._"
   ]
  },
  {
   "cell_type": "code",
   "execution_count": 17,
   "metadata": {
    "scrolled": false
   },
   "outputs": [
    {
     "data": {
      "text/html": [
       "<table class=\"simpletable\">\n",
       "<caption>OLS Regression Results</caption>\n",
       "<tr>\n",
       "  <th>Dep. Variable:</th>      <td>Expenditures</td>   <th>  R-squared:         </th> <td>   0.718</td> \n",
       "</tr>\n",
       "<tr>\n",
       "  <th>Model:</th>                   <td>OLS</td>       <th>  Adj. R-squared:    </th> <td>   0.717</td> \n",
       "</tr>\n",
       "<tr>\n",
       "  <th>Method:</th>             <td>Least Squares</td>  <th>  F-statistic:       </th> <td>   451.1</td> \n",
       "</tr>\n",
       "<tr>\n",
       "  <th>Date:</th>             <td>Mon, 18 Feb 2019</td> <th>  Prob (F-statistic):</th> <td>6.29e-249</td>\n",
       "</tr>\n",
       "<tr>\n",
       "  <th>Time:</th>                 <td>23:19:37</td>     <th>  Log-Likelihood:    </th> <td> -10294.</td> \n",
       "</tr>\n",
       "<tr>\n",
       "  <th>No. Observations:</th>      <td>   965</td>      <th>  AIC:               </th> <td>2.060e+04</td>\n",
       "</tr>\n",
       "<tr>\n",
       "  <th>Df Residuals:</th>          <td>   959</td>      <th>  BIC:               </th> <td>2.063e+04</td>\n",
       "</tr>\n",
       "<tr>\n",
       "  <th>Df Model:</th>              <td>     5</td>      <th>                     </th>     <td> </td>    \n",
       "</tr>\n",
       "<tr>\n",
       "  <th>Covariance Type:</th>         <td>HC1</td>       <th>                     </th>     <td> </td>    \n",
       "</tr>\n",
       "</table>\n",
       "<table class=\"simpletable\">\n",
       "<tr>\n",
       "                                   <td></td>                                      <th>coef</th>     <th>std err</th>      <th>t</th>      <th>P>|t|</th>  <th>[0.025</th>    <th>0.975]</th>  \n",
       "</tr>\n",
       "<tr>\n",
       "  <th>Intercept</th>                                                           <td>  631.6855</td> <td>  836.852</td> <td>    0.755</td> <td> 0.451</td> <td>-1010.587</td> <td> 2273.958</td>\n",
       "</tr>\n",
       "<tr>\n",
       "  <th>Gender[T.Male]</th>                                                      <td> -401.0083</td> <td>  671.855</td> <td>   -0.597</td> <td> 0.551</td> <td>-1719.484</td> <td>  917.468</td>\n",
       "</tr>\n",
       "<tr>\n",
       "  <th>C(Ethnicity, Treatment(reference=\"White not Hispanic\"))[T.Asian]</th>    <td>-2035.5927</td> <td> 1116.616</td> <td>   -1.823</td> <td> 0.069</td> <td>-4226.885</td> <td>  155.700</td>\n",
       "</tr>\n",
       "<tr>\n",
       "  <th>C(Ethnicity, Treatment(reference=\"White not Hispanic\"))[T.Black]</th>    <td> -895.8028</td> <td> 1555.904</td> <td>   -0.576</td> <td> 0.565</td> <td>-3949.172</td> <td> 2157.567</td>\n",
       "</tr>\n",
       "<tr>\n",
       "  <th>C(Ethnicity, Treatment(reference=\"White not Hispanic\"))[T.Hispanic]</th> <td>-4438.6540</td> <td>  780.593</td> <td>   -5.686</td> <td> 0.000</td> <td>-5970.522</td> <td>-2906.786</td>\n",
       "</tr>\n",
       "<tr>\n",
       "  <th>Age</th>                                                                 <td>  867.2677</td> <td>   20.579</td> <td>   42.144</td> <td> 0.000</td> <td>  826.883</td> <td>  907.652</td>\n",
       "</tr>\n",
       "</table>\n",
       "<table class=\"simpletable\">\n",
       "<tr>\n",
       "  <th>Omnibus:</th>       <td>148.526</td> <th>  Durbin-Watson:     </th> <td>   1.968</td>\n",
       "</tr>\n",
       "<tr>\n",
       "  <th>Prob(Omnibus):</th> <td> 0.000</td>  <th>  Jarque-Bera (JB):  </th> <td> 218.657</td>\n",
       "</tr>\n",
       "<tr>\n",
       "  <th>Skew:</th>          <td> 1.105</td>  <th>  Prob(JB):          </th> <td>3.31e-48</td>\n",
       "</tr>\n",
       "<tr>\n",
       "  <th>Kurtosis:</th>      <td> 3.743</td>  <th>  Cond. No.          </th> <td>    135.</td>\n",
       "</tr>\n",
       "</table><br/><br/>Warnings:<br/>[1] Standard Errors are heteroscedasticity robust (HC1)"
      ],
      "text/plain": [
       "<class 'statsmodels.iolib.summary.Summary'>\n",
       "\"\"\"\n",
       "                            OLS Regression Results                            \n",
       "==============================================================================\n",
       "Dep. Variable:           Expenditures   R-squared:                       0.718\n",
       "Model:                            OLS   Adj. R-squared:                  0.717\n",
       "Method:                 Least Squares   F-statistic:                     451.1\n",
       "Date:                Mon, 18 Feb 2019   Prob (F-statistic):          6.29e-249\n",
       "Time:                        23:19:37   Log-Likelihood:                -10294.\n",
       "No. Observations:                 965   AIC:                         2.060e+04\n",
       "Df Residuals:                     959   BIC:                         2.063e+04\n",
       "Df Model:                           5                                         \n",
       "Covariance Type:                  HC1                                         \n",
       "=======================================================================================================================================\n",
       "                                                                          coef    std err          t      P>|t|      [0.025      0.975]\n",
       "---------------------------------------------------------------------------------------------------------------------------------------\n",
       "Intercept                                                             631.6855    836.852      0.755      0.451   -1010.587    2273.958\n",
       "Gender[T.Male]                                                       -401.0083    671.855     -0.597      0.551   -1719.484     917.468\n",
       "C(Ethnicity, Treatment(reference=\"White not Hispanic\"))[T.Asian]    -2035.5927   1116.616     -1.823      0.069   -4226.885     155.700\n",
       "C(Ethnicity, Treatment(reference=\"White not Hispanic\"))[T.Black]     -895.8028   1555.904     -0.576      0.565   -3949.172    2157.567\n",
       "C(Ethnicity, Treatment(reference=\"White not Hispanic\"))[T.Hispanic] -4438.6540    780.593     -5.686      0.000   -5970.522   -2906.786\n",
       "Age                                                                   867.2677     20.579     42.144      0.000     826.883     907.652\n",
       "==============================================================================\n",
       "Omnibus:                      148.526   Durbin-Watson:                   1.968\n",
       "Prob(Omnibus):                  0.000   Jarque-Bera (JB):              218.657\n",
       "Skew:                           1.105   Prob(JB):                     3.31e-48\n",
       "Kurtosis:                       3.743   Cond. No.                         135.\n",
       "==============================================================================\n",
       "\n",
       "Warnings:\n",
       "[1] Standard Errors are heteroscedasticity robust (HC1)\n",
       "\"\"\""
      ]
     },
     "execution_count": 17,
     "metadata": {},
     "output_type": "execute_result"
    }
   ],
   "source": [
    "# Model 1\n",
    "model = smf.ols(formula='Expenditures ~ Age + Gender + C(Ethnicity, Treatment(reference=\"White not Hispanic\"))', data=df)\n",
    "results = model.fit()\n",
    "results_robust = results.get_robustcov_results(cov_type='HC1')\n",
    "\n",
    "results_robust.summary()"
   ]
  },
  {
   "cell_type": "markdown",
   "metadata": {},
   "source": [
    "The result of the above regression shows that most of the coefficients have a p-value higher than the conventional 0.05 level. In fact, only the coefficients of `Hispanic` and `Age` pass the significance test. At the same time, the adjusted R-squared of our model is 0.717. The information we gathered from this is that:\n",
    "- `Age` is once again corroborated to be powerful in explaining the discrepancies in `Expenditures`;\n",
    "- No gender-based discrimination is evident;\n",
    "- Except for `Hispanic`, other ethnicity groups don't differ significantly from `White not Hispanic` in terms of the expenditures they're getting.\n",
    "\n",
    "Since `Gender` is not statistically significant at all, I drop it and run the regression again."
   ]
  },
  {
   "cell_type": "code",
   "execution_count": 18,
   "metadata": {},
   "outputs": [
    {
     "data": {
      "text/html": [
       "<table class=\"simpletable\">\n",
       "<caption>OLS Regression Results</caption>\n",
       "<tr>\n",
       "  <th>Dep. Variable:</th>      <td>Expenditures</td>   <th>  R-squared:         </th> <td>   0.718</td> \n",
       "</tr>\n",
       "<tr>\n",
       "  <th>Model:</th>                   <td>OLS</td>       <th>  Adj. R-squared:    </th> <td>   0.717</td> \n",
       "</tr>\n",
       "<tr>\n",
       "  <th>Method:</th>             <td>Least Squares</td>  <th>  F-statistic:       </th> <td>   565.8</td> \n",
       "</tr>\n",
       "<tr>\n",
       "  <th>Date:</th>             <td>Mon, 18 Feb 2019</td> <th>  Prob (F-statistic):</th> <td>1.11e-250</td>\n",
       "</tr>\n",
       "<tr>\n",
       "  <th>Time:</th>                 <td>23:19:37</td>     <th>  Log-Likelihood:    </th> <td> -10294.</td> \n",
       "</tr>\n",
       "<tr>\n",
       "  <th>No. Observations:</th>      <td>   965</td>      <th>  AIC:               </th> <td>2.060e+04</td>\n",
       "</tr>\n",
       "<tr>\n",
       "  <th>Df Residuals:</th>          <td>   960</td>      <th>  BIC:               </th> <td>2.062e+04</td>\n",
       "</tr>\n",
       "<tr>\n",
       "  <th>Df Model:</th>              <td>     4</td>      <th>                     </th>     <td> </td>    \n",
       "</tr>\n",
       "<tr>\n",
       "  <th>Covariance Type:</th>         <td>HC1</td>       <th>                     </th>     <td> </td>    \n",
       "</tr>\n",
       "</table>\n",
       "<table class=\"simpletable\">\n",
       "<tr>\n",
       "                                   <td></td>                                      <th>coef</th>     <th>std err</th>      <th>t</th>      <th>P>|t|</th>  <th>[0.025</th>    <th>0.975]</th>  \n",
       "</tr>\n",
       "<tr>\n",
       "  <th>Intercept</th>                                                           <td>  439.1774</td> <td>  776.637</td> <td>    0.565</td> <td> 0.572</td> <td>-1084.925</td> <td> 1963.279</td>\n",
       "</tr>\n",
       "<tr>\n",
       "  <th>C(Ethnicity, Treatment(reference=\"White not Hispanic\"))[T.Asian]</th>    <td>-2051.5858</td> <td> 1116.035</td> <td>   -1.838</td> <td> 0.066</td> <td>-4241.736</td> <td>  138.564</td>\n",
       "</tr>\n",
       "<tr>\n",
       "  <th>C(Ethnicity, Treatment(reference=\"White not Hispanic\"))[T.Black]</th>    <td> -924.5078</td> <td> 1553.706</td> <td>   -0.595</td> <td> 0.552</td> <td>-3973.560</td> <td> 2124.545</td>\n",
       "</tr>\n",
       "<tr>\n",
       "  <th>C(Ethnicity, Treatment(reference=\"White not Hispanic\"))[T.Hispanic]</th> <td>-4440.2127</td> <td>  780.500</td> <td>   -5.689</td> <td> 0.000</td> <td>-5971.896</td> <td>-2908.529</td>\n",
       "</tr>\n",
       "<tr>\n",
       "  <th>Age</th>                                                                 <td>  867.1427</td> <td>   20.539</td> <td>   42.220</td> <td> 0.000</td> <td>  826.837</td> <td>  907.448</td>\n",
       "</tr>\n",
       "</table>\n",
       "<table class=\"simpletable\">\n",
       "<tr>\n",
       "  <th>Omnibus:</th>       <td>149.130</td> <th>  Durbin-Watson:     </th> <td>   1.970</td>\n",
       "</tr>\n",
       "<tr>\n",
       "  <th>Prob(Omnibus):</th> <td> 0.000</td>  <th>  Jarque-Bera (JB):  </th> <td> 219.915</td>\n",
       "</tr>\n",
       "<tr>\n",
       "  <th>Skew:</th>          <td> 1.108</td>  <th>  Prob(JB):          </th> <td>1.76e-48</td>\n",
       "</tr>\n",
       "<tr>\n",
       "  <th>Kurtosis:</th>      <td> 3.750</td>  <th>  Cond. No.          </th> <td>    135.</td>\n",
       "</tr>\n",
       "</table><br/><br/>Warnings:<br/>[1] Standard Errors are heteroscedasticity robust (HC1)"
      ],
      "text/plain": [
       "<class 'statsmodels.iolib.summary.Summary'>\n",
       "\"\"\"\n",
       "                            OLS Regression Results                            \n",
       "==============================================================================\n",
       "Dep. Variable:           Expenditures   R-squared:                       0.718\n",
       "Model:                            OLS   Adj. R-squared:                  0.717\n",
       "Method:                 Least Squares   F-statistic:                     565.8\n",
       "Date:                Mon, 18 Feb 2019   Prob (F-statistic):          1.11e-250\n",
       "Time:                        23:19:37   Log-Likelihood:                -10294.\n",
       "No. Observations:                 965   AIC:                         2.060e+04\n",
       "Df Residuals:                     960   BIC:                         2.062e+04\n",
       "Df Model:                           4                                         \n",
       "Covariance Type:                  HC1                                         \n",
       "=======================================================================================================================================\n",
       "                                                                          coef    std err          t      P>|t|      [0.025      0.975]\n",
       "---------------------------------------------------------------------------------------------------------------------------------------\n",
       "Intercept                                                             439.1774    776.637      0.565      0.572   -1084.925    1963.279\n",
       "C(Ethnicity, Treatment(reference=\"White not Hispanic\"))[T.Asian]    -2051.5858   1116.035     -1.838      0.066   -4241.736     138.564\n",
       "C(Ethnicity, Treatment(reference=\"White not Hispanic\"))[T.Black]     -924.5078   1553.706     -0.595      0.552   -3973.560    2124.545\n",
       "C(Ethnicity, Treatment(reference=\"White not Hispanic\"))[T.Hispanic] -4440.2127    780.500     -5.689      0.000   -5971.896   -2908.529\n",
       "Age                                                                   867.1427     20.539     42.220      0.000     826.837     907.448\n",
       "==============================================================================\n",
       "Omnibus:                      149.130   Durbin-Watson:                   1.970\n",
       "Prob(Omnibus):                  0.000   Jarque-Bera (JB):              219.915\n",
       "Skew:                           1.108   Prob(JB):                     1.76e-48\n",
       "Kurtosis:                       3.750   Cond. No.                         135.\n",
       "==============================================================================\n",
       "\n",
       "Warnings:\n",
       "[1] Standard Errors are heteroscedasticity robust (HC1)\n",
       "\"\"\""
      ]
     },
     "execution_count": 18,
     "metadata": {},
     "output_type": "execute_result"
    }
   ],
   "source": [
    "# Model 2 (Model 1 without controlling for gender)\n",
    "model = smf.ols(formula='Expenditures ~ Age + C(Ethnicity, Treatment(reference=\"White not Hispanic\"))', data=df)\n",
    "results = model.fit()\n",
    "results_robust = results.get_robustcov_results(cov_type='HC1')\n",
    "\n",
    "results_robust.summary()"
   ]
  },
  {
   "cell_type": "markdown",
   "metadata": {},
   "source": [
    "The story is not very much different. (There's some improvement in our BIC.)"
   ]
  },
  {
   "cell_type": "markdown",
   "metadata": {},
   "source": [
    "I decide to run two additional regressions (not controlling for `Gender`, since it's not significant anyway), for each of the two subsets (`young` and `old`)."
   ]
  },
  {
   "cell_type": "code",
   "execution_count": 19,
   "metadata": {},
   "outputs": [
    {
     "data": {
      "text/html": [
       "<table class=\"simpletable\">\n",
       "<caption>OLS Regression Results</caption>\n",
       "<tr>\n",
       "  <th>Dep. Variable:</th>      <td>Expenditures</td>   <th>  R-squared:         </th> <td>   0.562</td> \n",
       "</tr>\n",
       "<tr>\n",
       "  <th>Model:</th>                   <td>OLS</td>       <th>  Adj. R-squared:    </th> <td>   0.560</td> \n",
       "</tr>\n",
       "<tr>\n",
       "  <th>Method:</th>             <td>Least Squares</td>  <th>  F-statistic:       </th> <td>   203.3</td> \n",
       "</tr>\n",
       "<tr>\n",
       "  <th>Date:</th>             <td>Mon, 18 Feb 2019</td> <th>  Prob (F-statistic):</th> <td>3.88e-112</td>\n",
       "</tr>\n",
       "<tr>\n",
       "  <th>Time:</th>                 <td>23:19:37</td>     <th>  Log-Likelihood:    </th> <td> -5919.3</td> \n",
       "</tr>\n",
       "<tr>\n",
       "  <th>No. Observations:</th>      <td>   640</td>      <th>  AIC:               </th> <td>1.185e+04</td>\n",
       "</tr>\n",
       "<tr>\n",
       "  <th>Df Residuals:</th>          <td>   635</td>      <th>  BIC:               </th> <td>1.187e+04</td>\n",
       "</tr>\n",
       "<tr>\n",
       "  <th>Df Model:</th>              <td>     4</td>      <th>                     </th>     <td> </td>    \n",
       "</tr>\n",
       "<tr>\n",
       "  <th>Covariance Type:</th>         <td>HC1</td>       <th>                     </th>     <td> </td>    \n",
       "</tr>\n",
       "</table>\n",
       "<table class=\"simpletable\">\n",
       "<tr>\n",
       "                                   <td></td>                                      <th>coef</th>     <th>std err</th>      <th>t</th>      <th>P>|t|</th>  <th>[0.025</th>    <th>0.975]</th>  \n",
       "</tr>\n",
       "<tr>\n",
       "  <th>Intercept</th>                                                           <td>-1613.3235</td> <td>  268.250</td> <td>   -6.014</td> <td> 0.000</td> <td>-2140.088</td> <td>-1086.559</td>\n",
       "</tr>\n",
       "<tr>\n",
       "  <th>C(Ethnicity, Treatment(reference=\"White not Hispanic\"))[T.Asian]</th>    <td>  326.0911</td> <td>  342.476</td> <td>    0.952</td> <td> 0.341</td> <td> -346.432</td> <td>  998.614</td>\n",
       "</tr>\n",
       "<tr>\n",
       "  <th>C(Ethnicity, Treatment(reference=\"White not Hispanic\"))[T.Black]</th>    <td> -221.7372</td> <td>  351.625</td> <td>   -0.631</td> <td> 0.529</td> <td> -912.225</td> <td>  468.751</td>\n",
       "</tr>\n",
       "<tr>\n",
       "  <th>C(Ethnicity, Treatment(reference=\"White not Hispanic\"))[T.Hispanic]</th> <td> -175.2698</td> <td>  233.042</td> <td>   -0.752</td> <td> 0.452</td> <td> -632.896</td> <td>  282.357</td>\n",
       "</tr>\n",
       "<tr>\n",
       "  <th>Age</th>                                                                 <td>  496.9677</td> <td>   17.919</td> <td>   27.733</td> <td> 0.000</td> <td>  461.779</td> <td>  532.156</td>\n",
       "</tr>\n",
       "</table>\n",
       "<table class=\"simpletable\">\n",
       "<tr>\n",
       "  <th>Omnibus:</th>       <td>73.554</td> <th>  Durbin-Watson:     </th> <td>   2.083</td>\n",
       "</tr>\n",
       "<tr>\n",
       "  <th>Prob(Omnibus):</th> <td> 0.000</td> <th>  Jarque-Bera (JB):  </th> <td> 101.616</td>\n",
       "</tr>\n",
       "<tr>\n",
       "  <th>Skew:</th>          <td> 0.841</td> <th>  Prob(JB):          </th> <td>8.60e-23</td>\n",
       "</tr>\n",
       "<tr>\n",
       "  <th>Kurtosis:</th>      <td> 3.991</td> <th>  Cond. No.          </th> <td>    73.1</td>\n",
       "</tr>\n",
       "</table><br/><br/>Warnings:<br/>[1] Standard Errors are heteroscedasticity robust (HC1)"
      ],
      "text/plain": [
       "<class 'statsmodels.iolib.summary.Summary'>\n",
       "\"\"\"\n",
       "                            OLS Regression Results                            \n",
       "==============================================================================\n",
       "Dep. Variable:           Expenditures   R-squared:                       0.562\n",
       "Model:                            OLS   Adj. R-squared:                  0.560\n",
       "Method:                 Least Squares   F-statistic:                     203.3\n",
       "Date:                Mon, 18 Feb 2019   Prob (F-statistic):          3.88e-112\n",
       "Time:                        23:19:37   Log-Likelihood:                -5919.3\n",
       "No. Observations:                 640   AIC:                         1.185e+04\n",
       "Df Residuals:                     635   BIC:                         1.187e+04\n",
       "Df Model:                           4                                         \n",
       "Covariance Type:                  HC1                                         \n",
       "=======================================================================================================================================\n",
       "                                                                          coef    std err          t      P>|t|      [0.025      0.975]\n",
       "---------------------------------------------------------------------------------------------------------------------------------------\n",
       "Intercept                                                           -1613.3235    268.250     -6.014      0.000   -2140.088   -1086.559\n",
       "C(Ethnicity, Treatment(reference=\"White not Hispanic\"))[T.Asian]      326.0911    342.476      0.952      0.341    -346.432     998.614\n",
       "C(Ethnicity, Treatment(reference=\"White not Hispanic\"))[T.Black]     -221.7372    351.625     -0.631      0.529    -912.225     468.751\n",
       "C(Ethnicity, Treatment(reference=\"White not Hispanic\"))[T.Hispanic]  -175.2698    233.042     -0.752      0.452    -632.896     282.357\n",
       "Age                                                                   496.9677     17.919     27.733      0.000     461.779     532.156\n",
       "==============================================================================\n",
       "Omnibus:                       73.554   Durbin-Watson:                   2.083\n",
       "Prob(Omnibus):                  0.000   Jarque-Bera (JB):              101.616\n",
       "Skew:                           0.841   Prob(JB):                     8.60e-23\n",
       "Kurtosis:                       3.991   Cond. No.                         73.1\n",
       "==============================================================================\n",
       "\n",
       "Warnings:\n",
       "[1] Standard Errors are heteroscedasticity robust (HC1)\n",
       "\"\"\""
      ]
     },
     "execution_count": 19,
     "metadata": {},
     "output_type": "execute_result"
    }
   ],
   "source": [
    "# Model 3 (Model 2, but for young)\n",
    "model = smf.ols(formula='Expenditures ~ Age + C(Ethnicity, Treatment(reference=\"White not Hispanic\"))', data=young)\n",
    "results = model.fit()\n",
    "results_robust = results.get_robustcov_results(cov_type='HC1')\n",
    "\n",
    "results_robust.summary()"
   ]
  },
  {
   "cell_type": "code",
   "execution_count": 20,
   "metadata": {
    "scrolled": false
   },
   "outputs": [
    {
     "data": {
      "text/html": [
       "<table class=\"simpletable\">\n",
       "<caption>OLS Regression Results</caption>\n",
       "<tr>\n",
       "  <th>Dep. Variable:</th>      <td>Expenditures</td>   <th>  R-squared:         </th> <td>   0.524</td>\n",
       "</tr>\n",
       "<tr>\n",
       "  <th>Model:</th>                   <td>OLS</td>       <th>  Adj. R-squared:    </th> <td>   0.518</td>\n",
       "</tr>\n",
       "<tr>\n",
       "  <th>Method:</th>             <td>Least Squares</td>  <th>  F-statistic:       </th> <td>   97.35</td>\n",
       "</tr>\n",
       "<tr>\n",
       "  <th>Date:</th>             <td>Mon, 18 Feb 2019</td> <th>  Prob (F-statistic):</th> <td>4.26e-54</td>\n",
       "</tr>\n",
       "<tr>\n",
       "  <th>Time:</th>                 <td>23:19:37</td>     <th>  Log-Likelihood:    </th> <td> -3292.2</td>\n",
       "</tr>\n",
       "<tr>\n",
       "  <th>No. Observations:</th>      <td>   325</td>      <th>  AIC:               </th> <td>   6594.</td>\n",
       "</tr>\n",
       "<tr>\n",
       "  <th>Df Residuals:</th>          <td>   320</td>      <th>  BIC:               </th> <td>   6613.</td>\n",
       "</tr>\n",
       "<tr>\n",
       "  <th>Df Model:</th>              <td>     4</td>      <th>                     </th>     <td> </td>   \n",
       "</tr>\n",
       "<tr>\n",
       "  <th>Covariance Type:</th>         <td>HC1</td>       <th>                     </th>     <td> </td>   \n",
       "</tr>\n",
       "</table>\n",
       "<table class=\"simpletable\">\n",
       "<tr>\n",
       "                                   <td></td>                                      <th>coef</th>     <th>std err</th>      <th>t</th>      <th>P>|t|</th>  <th>[0.025</th>    <th>0.975]</th>  \n",
       "</tr>\n",
       "<tr>\n",
       "  <th>Intercept</th>                                                           <td> 3.113e+04</td> <td>  825.143</td> <td>   37.723</td> <td> 0.000</td> <td> 2.95e+04</td> <td> 3.28e+04</td>\n",
       "</tr>\n",
       "<tr>\n",
       "  <th>C(Ethnicity, Treatment(reference=\"White not Hispanic\"))[T.Asian]</th>    <td>  315.2445</td> <td> 1099.735</td> <td>    0.287</td> <td> 0.775</td> <td>-1848.380</td> <td> 2478.869</td>\n",
       "</tr>\n",
       "<tr>\n",
       "  <th>C(Ethnicity, Treatment(reference=\"White not Hispanic\"))[T.Black]</th>    <td>  388.2728</td> <td> 1153.856</td> <td>    0.337</td> <td> 0.737</td> <td>-1881.829</td> <td> 2658.375</td>\n",
       "</tr>\n",
       "<tr>\n",
       "  <th>C(Ethnicity, Treatment(reference=\"White not Hispanic\"))[T.Hispanic]</th> <td> 1073.3186</td> <td>  923.340</td> <td>    1.162</td> <td> 0.246</td> <td> -743.264</td> <td> 2889.902</td>\n",
       "</tr>\n",
       "<tr>\n",
       "  <th>Age</th>                                                                 <td>  313.3290</td> <td>   15.956</td> <td>   19.637</td> <td> 0.000</td> <td>  281.936</td> <td>  344.722</td>\n",
       "</tr>\n",
       "</table>\n",
       "<table class=\"simpletable\">\n",
       "<tr>\n",
       "  <th>Omnibus:</th>       <td> 0.314</td> <th>  Durbin-Watson:     </th> <td>   2.090</td>\n",
       "</tr>\n",
       "<tr>\n",
       "  <th>Prob(Omnibus):</th> <td> 0.855</td> <th>  Jarque-Bera (JB):  </th> <td>   0.448</td>\n",
       "</tr>\n",
       "<tr>\n",
       "  <th>Skew:</th>          <td>-0.012</td> <th>  Prob(JB):          </th> <td>   0.799</td>\n",
       "</tr>\n",
       "<tr>\n",
       "  <th>Kurtosis:</th>      <td> 2.820</td> <th>  Cond. No.          </th> <td>    189.</td>\n",
       "</tr>\n",
       "</table><br/><br/>Warnings:<br/>[1] Standard Errors are heteroscedasticity robust (HC1)"
      ],
      "text/plain": [
       "<class 'statsmodels.iolib.summary.Summary'>\n",
       "\"\"\"\n",
       "                            OLS Regression Results                            \n",
       "==============================================================================\n",
       "Dep. Variable:           Expenditures   R-squared:                       0.524\n",
       "Model:                            OLS   Adj. R-squared:                  0.518\n",
       "Method:                 Least Squares   F-statistic:                     97.35\n",
       "Date:                Mon, 18 Feb 2019   Prob (F-statistic):           4.26e-54\n",
       "Time:                        23:19:37   Log-Likelihood:                -3292.2\n",
       "No. Observations:                 325   AIC:                             6594.\n",
       "Df Residuals:                     320   BIC:                             6613.\n",
       "Df Model:                           4                                         \n",
       "Covariance Type:                  HC1                                         \n",
       "=======================================================================================================================================\n",
       "                                                                          coef    std err          t      P>|t|      [0.025      0.975]\n",
       "---------------------------------------------------------------------------------------------------------------------------------------\n",
       "Intercept                                                            3.113e+04    825.143     37.723      0.000    2.95e+04    3.28e+04\n",
       "C(Ethnicity, Treatment(reference=\"White not Hispanic\"))[T.Asian]      315.2445   1099.735      0.287      0.775   -1848.380    2478.869\n",
       "C(Ethnicity, Treatment(reference=\"White not Hispanic\"))[T.Black]      388.2728   1153.856      0.337      0.737   -1881.829    2658.375\n",
       "C(Ethnicity, Treatment(reference=\"White not Hispanic\"))[T.Hispanic]  1073.3186    923.340      1.162      0.246    -743.264    2889.902\n",
       "Age                                                                   313.3290     15.956     19.637      0.000     281.936     344.722\n",
       "==============================================================================\n",
       "Omnibus:                        0.314   Durbin-Watson:                   2.090\n",
       "Prob(Omnibus):                  0.855   Jarque-Bera (JB):                0.448\n",
       "Skew:                          -0.012   Prob(JB):                        0.799\n",
       "Kurtosis:                       2.820   Cond. No.                         189.\n",
       "==============================================================================\n",
       "\n",
       "Warnings:\n",
       "[1] Standard Errors are heteroscedasticity robust (HC1)\n",
       "\"\"\""
      ]
     },
     "execution_count": 20,
     "metadata": {},
     "output_type": "execute_result"
    }
   ],
   "source": [
    "# Model 4 (Model 2, but for old)\n",
    "model = smf.ols(formula='Expenditures ~ Age + C(Ethnicity, Treatment(reference=\"White not Hispanic\"))', data=old)\n",
    "results = model.fit()\n",
    "results_robust = results.get_robustcov_results(cov_type='HC1')\n",
    "\n",
    "results_robust.summary()"
   ]
  },
  {
   "cell_type": "markdown",
   "metadata": {},
   "source": [
    "Looking at Regression 3 and 4, the intercept p-value drops to a significant level. `Age` is still significant. However, coefficients for all other ethnicity groups become very insignificant, and the adjusted R-squared drops to slightly above 0.5."
   ]
  },
  {
   "cell_type": "markdown",
   "metadata": {},
   "source": [
    "**Ref.**\n",
    "- [StatsModels Formulas: Fitting models using R-style formulas](https://www.statsmodels.org/dev/examples/notebooks/generated/formulas.html)\n",
    "- [Comparing Stata and Ipython Commands for OLS Models](https://rlhick.people.wm.edu/posts/comparing-stata-and-ipython-commands-for-ols-models.html)\n",
    "- [Using Heteroscedasticity Consistent Standard Errors in the Linear Regression Model](http://www.indiana.edu/~jslsoc/files_research/testing_tests/hccm/00TAS.pdf)\n",
    "- [Difference between independent t-test and regression with dummy?](https://www.researchgate.net/post/Difference_between_independent_t-test_and_regression_with_dummy)\n",
    "- [DDS Fact Book, 15th edition](https://www.dds.ca.gov/FactsStats/docs/factBook_15th.pdf)\n",
    "- [Specifying which category to treat as the base with 'statsmodels'](https://stackoverflow.com/questions/22431503/specifying-which-category-to-treat-as-the-base-with-statsmodels)"
   ]
  }
 ],
 "metadata": {
  "kernelspec": {
   "display_name": "Python 3",
   "language": "python",
   "name": "python3"
  },
  "language_info": {
   "codemirror_mode": {
    "name": "ipython",
    "version": 3
   },
   "file_extension": ".py",
   "mimetype": "text/x-python",
   "name": "python",
   "nbconvert_exporter": "python",
   "pygments_lexer": "ipython3",
   "version": "3.5.4"
  }
 },
 "nbformat": 4,
 "nbformat_minor": 2
}
